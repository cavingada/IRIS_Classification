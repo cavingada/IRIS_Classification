{
 "cells": [
  {
   "cell_type": "code",
   "execution_count": 1,
   "source": [
    "#author @ Cavin Gada\r\n",
    "#dataset @ iris (https://archive.ics.uci.edu/ml/datasets/iris)\r\n",
    "\r\n",
    "\"\"\" This project implements the Logistic Regression Classifier by classifying two types of flowers \r\n",
    "(Virginica and Non Virginica) based on two features: sepal width and sepal length. \r\n",
    "\r\n",
    "I use the sigmoid function for predictions and train my model using gradient (w.r.t bias and weights) descent. \r\n",
    "\r\n",
    "Finally, I estimate accuracy based on how many predictions my model can get correct and plot the decision boundary \r\n",
    "for the observations to visually represent the accuracy of my model. \"\"\" \r\n",
    "\r\n",
    "import sklearn\r\n",
    "import pandas as pd\r\n",
    "import matplotlib.pyplot as plt\r\n",
    "import numpy as np\r\n",
    "from sklearn.datasets import load_iris\r\n",
    "iris = load_iris() "
   ],
   "outputs": [],
   "metadata": {}
  },
  {
   "cell_type": "code",
   "execution_count": 2,
   "source": [
    "\r\n",
    "#data preprocessing\r\n",
    "x = iris.data[:,0:2] #we want only 2 features\r\n",
    "y = iris.target \r\n",
    "\r\n",
    "for i in range(len(y)):\r\n",
    "    #virginica: 1. non-virginica: 0\r\n",
    "    if y[i] == 1:\r\n",
    "        y[i] = 0\r\n",
    "    if y[i] == 2:\r\n",
    "        y[i] = 1\r\n",
    "\r\n",
    "#y must be in matrix format (2d array) for multiplication.\r\n",
    "y = y.reshape(x.shape[0],1)\r\n"
   ],
   "outputs": [],
   "metadata": {}
  },
  {
   "cell_type": "code",
   "execution_count": 3,
   "source": [
    "#sigmoid function. Returns value 0 to 1\r\n",
    "def sig(n):\r\n",
    "    denominator = 1 + np.exp(0-n)\r\n",
    "    return 1.0/denominator\r\n",
    "\r\n",
    "#loss function. Didn't use this in training, but I intend to in the future on a project. \r\n",
    "def loss(y, y_pred):\r\n",
    "    #negative log-liklihood\r\n",
    "    term1 = y*np.log(y_pred)\r\n",
    "    term2 = (1-y)*np.log(1-y_pred)\r\n",
    "    loss = 0 - np.mean(term1 - term2)\r\n",
    "    return loss\r\n",
    "\r\n",
    "#gradient loss w.r.t weight\r\n",
    "def gradient_weight(x, y, y_pred):\r\n",
    "    #number of training data\r\n",
    "    n = x.shape[0]\r\n",
    "    #take dot product of x transpose and difference between y and y prediction. Divide this by number of training data\r\n",
    "    weight_gradient = (np.dot(np.transpose(x), y_pred-y))/n\r\n",
    "    return weight_gradient\r\n",
    "\r\n",
    "#gradient loss w.r.t bias\r\n",
    "def gradient_bias(x, y, y_pred):\r\n",
    "    #number of training data\r\n",
    "    n = x.shape[0]\r\n",
    "    #take sum of difference between y pred and y and divide it by amount of training data. \r\n",
    "    bias_gradient = np.sum(y_pred-y)/n\r\n",
    "    return bias_gradient\r\n"
   ],
   "outputs": [],
   "metadata": {}
  },
  {
   "cell_type": "code",
   "execution_count": 4,
   "source": [
    "#assume batch number is a factor of amount of training data for simplicity.\r\n",
    "def training_func(x, y, epoch_amount, learning_rate, batch_size): \r\n",
    "\r\n",
    "    #store amount of training samples and features for convenience\r\n",
    "    num_training = x.shape[0] \r\n",
    "    num_features = 2\r\n",
    "\r\n",
    "    #we will set weight and bias to 0 (initially). Checked stack overflow and noticed that this is common practice.\r\n",
    "    weights = np.zeros((2,1)) # 0 vector to match dimensions of number of features (2) \r\n",
    "    bias = 0\r\n",
    "\r\n",
    "    for i in range(epoch_amount):\r\n",
    "        for j in range(num_training//batch_size):\r\n",
    "            \r\n",
    "            x_batch = x[j * batch_size : j * batch_size + batch_size]\r\n",
    "            y_batch = y[j * batch_size : j * batch_size + batch_size]\r\n",
    "\r\n",
    "            # xT * w + b\r\n",
    "            classifier = np.dot(x_batch, weights) + bias\r\n",
    "            y_pred = sig(classifier)\r\n",
    "\r\n",
    "            # gradient descent\r\n",
    "            weight_gradient = gradient_weight(x_batch, y_batch, y_pred)\r\n",
    "            bias_gradient = gradient_bias(x_batch, y_batch, y_pred)\r\n",
    "\r\n",
    "            #update weights and bias\r\n",
    "            weights = weights - learning_rate * weight_gradient\r\n",
    "            bias = bias - learning_rate * bias_gradient\r\n",
    "\r\n",
    "    return weights, bias\r\n",
    "\r\n",
    "\r\n",
    "    "
   ],
   "outputs": [],
   "metadata": {}
  },
  {
   "cell_type": "code",
   "execution_count": 5,
   "source": [
    "# predicts the class of given data based on predetermined weights and bias. Returns 1 if probability is >= .5 and 0 otherwise. \r\n",
    "def prediction(test_data, weights, bias):\r\n",
    "    classifier = np.dot(test_data, weights) + bias\r\n",
    "    my_predictions = sig(classifier)\r\n",
    "    results = []\r\n",
    "    for prediction in my_predictions:\r\n",
    "        if prediction >= 0.5:\r\n",
    "            results += [1]\r\n",
    "        else:\r\n",
    "            results+=[0]\r\n",
    "    #need in numpy array format in order to easily check for accuracy later. \r\n",
    "    results_np = np.array(results)\r\n",
    "    return results_np\r\n",
    "\r\n",
    "# returns how accurate predictions are by checking what proportion of predictions are right in comparison to the true class for each observation. \r\n",
    "def proportion_correct(y, y_preds):\r\n",
    "    numCorrect = 0\r\n",
    "    for prediction in y_preds:\r\n",
    "        for true_label in y:\r\n",
    "            if prediction==true_label:\r\n",
    "                numCorrect+=1\r\n",
    "    return numCorrect/len(y)/100\r\n",
    "\r\n"
   ],
   "outputs": [],
   "metadata": {}
  },
  {
   "cell_type": "code",
   "execution_count": 12,
   "source": [
    "#decision boundary is simply xTw + b = 0\r\n",
    "def decision_boundary(x, w, b, y):\r\n",
    "\r\n",
    "    #algebraic manipulation to find slope and intercept. \r\n",
    "\r\n",
    "    #b + w1x1 + w2x2 = 0\r\n",
    "    #x2 = (-w1x1 - b)/w2\r\n",
    "    #x2 = (-w1/w2)x1 - b/w2\r\n",
    "    #slope = -w1/w2 and intercept = -b/w2\r\n",
    "\r\n",
    "    slope = -w[0]/w[1]        #a.k.a -w1/w2. (we're just using indices)\r\n",
    "    intercept = -b/w[1]       #a.k.a -b/w2. (we're just using indices)\r\n",
    "    p1 = [4, 8.5]             #point 1. Chose this because I know this covers all possible range of x\r\n",
    "    p2 = slope*p1 + intercept #point 2. Calculated using simple line formula\r\n",
    "\r\n",
    "    # Here, I show what each point's true class is. This will show how accurate the\r\n",
    "    # decision boundry is visually. \r\n",
    "\r\n",
    "    firstNonVirginica = True\r\n",
    "    firstVirginica = True\r\n",
    "\r\n",
    "    for i in range(x.shape[0]):\r\n",
    "\r\n",
    "        #if non virginica, make green\r\n",
    "        #we want to label the plot (only if the point being plotted is the first point in that category.)\r\n",
    "        #in other words, we do not want duplicate keys in the legend. \r\n",
    "        \r\n",
    "        if y[i][0] == 0 and firstNonVirginica:\r\n",
    "            plt.plot(x[i][0], x[i][1], \"g+\", label=\"non-virginica\")\r\n",
    "            firstNonVirginica = False\r\n",
    "\r\n",
    "        elif y[i][0] == 0:\r\n",
    "            plt.plot(x[i][0], x[i][1], \"g+\")\r\n",
    "\r\n",
    "        #if virginica, make red\r\n",
    "        if y[i][0] == 1 and firstVirginica: \r\n",
    "            plt.plot(x[i][0], x[i][1], \"r.\", label=\"virginica\")\r\n",
    "            firstVirginica = False\r\n",
    "        elif y[i][0] == 1: \r\n",
    "            plt.plot(x[i][0], x[i][1], \"r.\")\r\n",
    "\r\n",
    "    plt.legend()\r\n",
    "    plt.plot(p1, p2) #plot the line between both points to achieve the decision boundry.\r\n",
    "    plt.xlabel(\"Sepal Length (cm)\")\r\n",
    "    plt.ylabel(\"Sepal Width (cm)\")\r\n",
    "    plt.title(\"Decision Boundary for Virginica and Non-Virginica Classification\")\r\n",
    "\r\n",
    "\r\n"
   ],
   "outputs": [],
   "metadata": {}
  },
  {
   "cell_type": "code",
   "execution_count": 13,
   "source": [
    "#this cell outputs the final results\r\n",
    "weight, bias = training_func(x, y, 1000, 0.01, 50)          #train function\r\n",
    "decision_boundary(x, weight, bias, y)                       #plot decision boundry\r\n",
    "\r\n",
    "y_preds = prediction(x,weight,bias)                         #get predictions\r\n",
    "print(\"accuracy is: \" + str(proportion_correct(y,y_preds))) #determine accuracy based on predictions"
   ],
   "outputs": [
    {
     "output_type": "stream",
     "name": "stdout",
     "text": [
      "accuracy is: 0.82\n"
     ]
    },
    {
     "output_type": "display_data",
     "data": {
      "image/png": "[encoded data removed]",
      "text/plain": [
       "<Figure size 432x288 with 1 Axes>"
      ]
     },
     "metadata": {
      "needs_background": "light"
     }
    }
   ],
   "metadata": {}
  }
 ],
 "metadata": {
  "orig_nbformat": 4,
  "language_info": {
   "name": "python",
   "version": "3.8.3",
   "mimetype": "text/x-python",
   "codemirror_mode": {
    "name": "ipython",
    "version": 3
   },
   "pygments_lexer": "ipython3",
   "nbconvert_exporter": "python",
   "file_extension": ".py"
  },
  "kernelspec": {
   "name": "python3",
   "display_name": "Python 3.8.3 64-bit ('base': conda)"
  },
  "interpreter": {
   "hash": "b6a7ed28b27af6d7e528bb8d2816d22388dff84b578009a23de3a25d500c50a4"
  }
 },
 "nbformat": 4,
 "nbformat_minor": 2
}